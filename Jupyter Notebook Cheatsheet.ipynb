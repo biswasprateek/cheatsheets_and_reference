{
 "cells": [
  {
   "cell_type": "markdown",
   "metadata": {},
   "source": [
    "# Jupyter Notebook Cheatsheet\n",
    "\n",
    "List of frequently used commands\n",
    "\n",
    "***\n",
    "\n",
    "- `a` - Insert Cell Above <br>\n",
    "- `b` - Insert Cell Below <br>\n",
    "- `Ctrl + Enter` - Run Cell <br>\n",
    "- `Shift + Enter` - Execute Current Cell and Create a new Cell Below <br>\n",
    "- `Shit + R` - Run All Cells **[ CUSTOM SHORTCUT ]** <br>\n",
    "- `Esc + M` - Convert Cell to Markdown <br>\n",
    "- `Esc + Y` - Convert Cell to Code <br>\n",
    "- `H` - Show keyboard shortcuts \n",
    "- `Shift + Tab` - Show the function documentation \n",
    "    - Note pressing `Tab` again shows the documentation in more detail\n"
   ]
  }
 ],
 "metadata": {
  "kernelspec": {
   "display_name": "Python 3",
   "language": "python",
   "name": "python3"
  },
  "language_info": {
   "codemirror_mode": {
    "name": "ipython",
    "version": 3
   },
   "file_extension": ".py",
   "mimetype": "text/x-python",
   "name": "python",
   "nbconvert_exporter": "python",
   "pygments_lexer": "ipython3",
   "version": "3.7.6"
  }
 },
 "nbformat": 4,
 "nbformat_minor": 4
}
